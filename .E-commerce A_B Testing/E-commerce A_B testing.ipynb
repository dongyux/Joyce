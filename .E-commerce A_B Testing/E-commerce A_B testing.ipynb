{
 "cells": [
  {
   "cell_type": "markdown",
   "id": "88d754df",
   "metadata": {},
   "source": [
    "###  1) Introduction\n",
    "This project dataset contains whether a customer converted or not by viewing old home page(control group) vs new home page (treatment group) in a e-commerce website.\n",
    "Goals for this project are:\n",
    "\n",
    "1)help the company understand if they should implement the new page or keep the old page\n",
    "\n",
    "2)Do company need to run the experiment longer to make their decision."
   ]
  },
  {
   "cell_type": "markdown",
   "id": "32648937",
   "metadata": {},
   "source": [
    "### 2) Import pacakges"
   ]
  },
  {
   "cell_type": "code",
   "execution_count": 118,
   "id": "b12bc745",
   "metadata": {},
   "outputs": [],
   "source": [
    "# data manipulation\n",
    "import numpy as np \n",
    "import pandas as pd \n",
    "\n",
    "#data visualization\n",
    "import matplotlib.pyplot as plt\n",
    "import seaborn as sns \n",
    "\n",
    "#random function\n",
    "import random\n",
    "import math\n",
    "random.seed(20) \n",
    "import statsmodels.api as sm\n",
    "\n",
    "#ignore warnings\n",
    "import warnings\n",
    "warnings.filterwarnings('ignore')"
   ]
  },
  {
   "cell_type": "markdown",
   "id": "f3fcb663",
   "metadata": {},
   "source": [
    "### 3) Load Data and Preview data"
   ]
  },
  {
   "cell_type": "code",
   "execution_count": 4,
   "id": "37be50d1",
   "metadata": {},
   "outputs": [
    {
     "data": {
      "text/html": [
       "<div>\n",
       "<style scoped>\n",
       "    .dataframe tbody tr th:only-of-type {\n",
       "        vertical-align: middle;\n",
       "    }\n",
       "\n",
       "    .dataframe tbody tr th {\n",
       "        vertical-align: top;\n",
       "    }\n",
       "\n",
       "    .dataframe thead th {\n",
       "        text-align: right;\n",
       "    }\n",
       "</style>\n",
       "<table border=\"1\" class=\"dataframe\">\n",
       "  <thead>\n",
       "    <tr style=\"text-align: right;\">\n",
       "      <th></th>\n",
       "      <th>id</th>\n",
       "      <th>time</th>\n",
       "      <th>con_treat</th>\n",
       "      <th>page</th>\n",
       "      <th>converted</th>\n",
       "    </tr>\n",
       "  </thead>\n",
       "  <tbody>\n",
       "    <tr>\n",
       "      <th>0</th>\n",
       "      <td>851104</td>\n",
       "      <td>11:48.6</td>\n",
       "      <td>control</td>\n",
       "      <td>old_page</td>\n",
       "      <td>0</td>\n",
       "    </tr>\n",
       "    <tr>\n",
       "      <th>1</th>\n",
       "      <td>804228</td>\n",
       "      <td>01:45.2</td>\n",
       "      <td>control</td>\n",
       "      <td>old_page</td>\n",
       "      <td>0</td>\n",
       "    </tr>\n",
       "    <tr>\n",
       "      <th>2</th>\n",
       "      <td>661590</td>\n",
       "      <td>55:06.2</td>\n",
       "      <td>treatment</td>\n",
       "      <td>new_page</td>\n",
       "      <td>0</td>\n",
       "    </tr>\n",
       "    <tr>\n",
       "      <th>3</th>\n",
       "      <td>853541</td>\n",
       "      <td>28:03.1</td>\n",
       "      <td>treatment</td>\n",
       "      <td>new_page</td>\n",
       "      <td>0</td>\n",
       "    </tr>\n",
       "    <tr>\n",
       "      <th>4</th>\n",
       "      <td>864975</td>\n",
       "      <td>52:26.2</td>\n",
       "      <td>control</td>\n",
       "      <td>old_page</td>\n",
       "      <td>1</td>\n",
       "    </tr>\n",
       "    <tr>\n",
       "      <th>5</th>\n",
       "      <td>936923</td>\n",
       "      <td>20:49.1</td>\n",
       "      <td>control</td>\n",
       "      <td>old_page</td>\n",
       "      <td>0</td>\n",
       "    </tr>\n",
       "    <tr>\n",
       "      <th>6</th>\n",
       "      <td>679687</td>\n",
       "      <td>26:46.9</td>\n",
       "      <td>treatment</td>\n",
       "      <td>new_page</td>\n",
       "      <td>1</td>\n",
       "    </tr>\n",
       "    <tr>\n",
       "      <th>7</th>\n",
       "      <td>719014</td>\n",
       "      <td>48:29.5</td>\n",
       "      <td>control</td>\n",
       "      <td>old_page</td>\n",
       "      <td>0</td>\n",
       "    </tr>\n",
       "    <tr>\n",
       "      <th>8</th>\n",
       "      <td>817355</td>\n",
       "      <td>58:09.0</td>\n",
       "      <td>treatment</td>\n",
       "      <td>new_page</td>\n",
       "      <td>1</td>\n",
       "    </tr>\n",
       "    <tr>\n",
       "      <th>9</th>\n",
       "      <td>839785</td>\n",
       "      <td>11:06.6</td>\n",
       "      <td>treatment</td>\n",
       "      <td>new_page</td>\n",
       "      <td>1</td>\n",
       "    </tr>\n",
       "  </tbody>\n",
       "</table>\n",
       "</div>"
      ],
      "text/plain": [
       "       id     time  con_treat      page  converted\n",
       "0  851104  11:48.6    control  old_page          0\n",
       "1  804228  01:45.2    control  old_page          0\n",
       "2  661590  55:06.2  treatment  new_page          0\n",
       "3  853541  28:03.1  treatment  new_page          0\n",
       "4  864975  52:26.2    control  old_page          1\n",
       "5  936923  20:49.1    control  old_page          0\n",
       "6  679687  26:46.9  treatment  new_page          1\n",
       "7  719014  48:29.5    control  old_page          0\n",
       "8  817355  58:09.0  treatment  new_page          1\n",
       "9  839785  11:06.6  treatment  new_page          1"
      ]
     },
     "execution_count": 4,
     "metadata": {},
     "output_type": "execute_result"
    }
   ],
   "source": [
    "df = pd.read_csv(\"ab_test.csv\")\n",
    "df.head(10)"
   ]
  },
  {
   "cell_type": "code",
   "execution_count": 5,
   "id": "7a801a42",
   "metadata": {},
   "outputs": [
    {
     "name": "stdout",
     "output_type": "stream",
     "text": [
      "<class 'pandas.core.frame.DataFrame'>\n",
      "RangeIndex: 294478 entries, 0 to 294477\n",
      "Data columns (total 5 columns):\n",
      " #   Column     Non-Null Count   Dtype \n",
      "---  ------     --------------   ----- \n",
      " 0   id         294478 non-null  int64 \n",
      " 1   time       294478 non-null  object\n",
      " 2   con_treat  294478 non-null  object\n",
      " 3   page       294478 non-null  object\n",
      " 4   converted  294478 non-null  int64 \n",
      "dtypes: int64(2), object(3)\n",
      "memory usage: 11.2+ MB\n"
     ]
    }
   ],
   "source": [
    "#inspecting data\n",
    "df.info()"
   ]
  },
  {
   "cell_type": "code",
   "execution_count": 6,
   "id": "09769a4e",
   "metadata": {},
   "outputs": [
    {
     "data": {
      "text/plain": [
       "id           0\n",
       "time         0\n",
       "con_treat    0\n",
       "page         0\n",
       "converted    0\n",
       "dtype: int64"
      ]
     },
     "execution_count": 6,
     "metadata": {},
     "output_type": "execute_result"
    }
   ],
   "source": [
    "#check null values, no null values\n",
    "df.isnull().sum()"
   ]
  },
  {
   "cell_type": "markdown",
   "id": "af5637fa",
   "metadata": {},
   "source": [
    "### 4) EDA and Summary Stats"
   ]
  },
  {
   "cell_type": "code",
   "execution_count": 9,
   "id": "c5bc4c24",
   "metadata": {},
   "outputs": [
    {
     "name": "stdout",
     "output_type": "stream",
     "text": [
      "Number of rows: 294478\n",
      "Number of unique users: 290584\n"
     ]
    }
   ],
   "source": [
    "#numer of rows and unique users\n",
    "print(f'Number of rows: {df.shape[0]}')\n",
    "print(f'Number of unique users: {df.id.nunique()}')"
   ]
  },
  {
   "cell_type": "code",
   "execution_count": 13,
   "id": "1c396e5a",
   "metadata": {},
   "outputs": [
    {
     "data": {
      "text/html": [
       "<div>\n",
       "<style scoped>\n",
       "    .dataframe tbody tr th:only-of-type {\n",
       "        vertical-align: middle;\n",
       "    }\n",
       "\n",
       "    .dataframe tbody tr th {\n",
       "        vertical-align: top;\n",
       "    }\n",
       "\n",
       "    .dataframe thead th {\n",
       "        text-align: right;\n",
       "    }\n",
       "</style>\n",
       "<table border=\"1\" class=\"dataframe\">\n",
       "  <thead>\n",
       "    <tr style=\"text-align: right;\">\n",
       "      <th></th>\n",
       "      <th>count</th>\n",
       "      <th>mean</th>\n",
       "      <th>std</th>\n",
       "    </tr>\n",
       "    <tr>\n",
       "      <th>page</th>\n",
       "      <th></th>\n",
       "      <th></th>\n",
       "      <th></th>\n",
       "    </tr>\n",
       "  </thead>\n",
       "  <tbody>\n",
       "    <tr>\n",
       "      <th>new_page</th>\n",
       "      <td>147239</td>\n",
       "      <td>0.118841</td>\n",
       "      <td>0.323602</td>\n",
       "    </tr>\n",
       "    <tr>\n",
       "      <th>old_page</th>\n",
       "      <td>147239</td>\n",
       "      <td>0.120478</td>\n",
       "      <td>0.325520</td>\n",
       "    </tr>\n",
       "  </tbody>\n",
       "</table>\n",
       "</div>"
      ],
      "text/plain": [
       "           count      mean       std\n",
       "page                                \n",
       "new_page  147239  0.118841  0.323602\n",
       "old_page  147239  0.120478  0.325520"
      ]
     },
     "execution_count": 13,
     "metadata": {},
     "output_type": "execute_result"
    }
   ],
   "source": [
    "# A/B Groups & Target Summary Stats\n",
    "df.groupby(\"page\").converted.agg([\"count\",\"mean\", \"std\"])"
   ]
  },
  {
   "cell_type": "code",
   "execution_count": 14,
   "id": "ab959d4d",
   "metadata": {},
   "outputs": [
    {
     "data": {
      "text/html": [
       "<div>\n",
       "<style scoped>\n",
       "    .dataframe tbody tr th:only-of-type {\n",
       "        vertical-align: middle;\n",
       "    }\n",
       "\n",
       "    .dataframe tbody tr th {\n",
       "        vertical-align: top;\n",
       "    }\n",
       "\n",
       "    .dataframe thead th {\n",
       "        text-align: right;\n",
       "    }\n",
       "</style>\n",
       "<table border=\"1\" class=\"dataframe\">\n",
       "  <thead>\n",
       "    <tr style=\"text-align: right;\">\n",
       "      <th></th>\n",
       "      <th>count</th>\n",
       "      <th>mean</th>\n",
       "      <th>std</th>\n",
       "    </tr>\n",
       "    <tr>\n",
       "      <th>con_treat</th>\n",
       "      <th></th>\n",
       "      <th></th>\n",
       "      <th></th>\n",
       "    </tr>\n",
       "  </thead>\n",
       "  <tbody>\n",
       "    <tr>\n",
       "      <th>control</th>\n",
       "      <td>147202</td>\n",
       "      <td>0.120399</td>\n",
       "      <td>0.325429</td>\n",
       "    </tr>\n",
       "    <tr>\n",
       "      <th>treatment</th>\n",
       "      <td>147276</td>\n",
       "      <td>0.118920</td>\n",
       "      <td>0.323695</td>\n",
       "    </tr>\n",
       "  </tbody>\n",
       "</table>\n",
       "</div>"
      ],
      "text/plain": [
       "            count      mean       std\n",
       "con_treat                            \n",
       "control    147202  0.120399  0.325429\n",
       "treatment  147276  0.118920  0.323695"
      ]
     },
     "execution_count": 14,
     "metadata": {},
     "output_type": "execute_result"
    }
   ],
   "source": [
    "# A/B Groups & Target Summary Stats\n",
    "df.groupby(\"con_treat\").converted.agg([\"count\",\"mean\", \"std\"])"
   ]
  },
  {
   "cell_type": "markdown",
   "id": "fda185ae",
   "metadata": {},
   "source": [
    "###### Number of people seeing old_page and new_page is same; but size between control and treatment group has slightly difference---which needs further analysis"
   ]
  },
  {
   "cell_type": "code",
   "execution_count": 18,
   "id": "2fa640fa",
   "metadata": {},
   "outputs": [
    {
     "data": {
      "text/html": [
       "<div>\n",
       "<style scoped>\n",
       "    .dataframe tbody tr th:only-of-type {\n",
       "        vertical-align: middle;\n",
       "    }\n",
       "\n",
       "    .dataframe tbody tr th {\n",
       "        vertical-align: top;\n",
       "    }\n",
       "\n",
       "    .dataframe thead th {\n",
       "        text-align: right;\n",
       "    }\n",
       "</style>\n",
       "<table border=\"1\" class=\"dataframe\">\n",
       "  <thead>\n",
       "    <tr style=\"text-align: right;\">\n",
       "      <th></th>\n",
       "      <th>id</th>\n",
       "      <th>time</th>\n",
       "      <th>con_treat</th>\n",
       "      <th>page</th>\n",
       "      <th>converted</th>\n",
       "    </tr>\n",
       "  </thead>\n",
       "  <tbody>\n",
       "    <tr>\n",
       "      <th>308</th>\n",
       "      <td>857184</td>\n",
       "      <td>34:59.8</td>\n",
       "      <td>treatment</td>\n",
       "      <td>old_page</td>\n",
       "      <td>0</td>\n",
       "    </tr>\n",
       "    <tr>\n",
       "      <th>327</th>\n",
       "      <td>686623</td>\n",
       "      <td>26:40.7</td>\n",
       "      <td>treatment</td>\n",
       "      <td>old_page</td>\n",
       "      <td>0</td>\n",
       "    </tr>\n",
       "    <tr>\n",
       "      <th>357</th>\n",
       "      <td>856078</td>\n",
       "      <td>29:30.4</td>\n",
       "      <td>treatment</td>\n",
       "      <td>old_page</td>\n",
       "      <td>0</td>\n",
       "    </tr>\n",
       "    <tr>\n",
       "      <th>685</th>\n",
       "      <td>666385</td>\n",
       "      <td>11:54.8</td>\n",
       "      <td>treatment</td>\n",
       "      <td>old_page</td>\n",
       "      <td>0</td>\n",
       "    </tr>\n",
       "    <tr>\n",
       "      <th>713</th>\n",
       "      <td>748761</td>\n",
       "      <td>47:44.4</td>\n",
       "      <td>treatment</td>\n",
       "      <td>old_page</td>\n",
       "      <td>0</td>\n",
       "    </tr>\n",
       "    <tr>\n",
       "      <th>...</th>\n",
       "      <td>...</td>\n",
       "      <td>...</td>\n",
       "      <td>...</td>\n",
       "      <td>...</td>\n",
       "      <td>...</td>\n",
       "    </tr>\n",
       "    <tr>\n",
       "      <th>293773</th>\n",
       "      <td>688144</td>\n",
       "      <td>34:50.5</td>\n",
       "      <td>treatment</td>\n",
       "      <td>old_page</td>\n",
       "      <td>1</td>\n",
       "    </tr>\n",
       "    <tr>\n",
       "      <th>293817</th>\n",
       "      <td>876037</td>\n",
       "      <td>15:09.0</td>\n",
       "      <td>treatment</td>\n",
       "      <td>old_page</td>\n",
       "      <td>1</td>\n",
       "    </tr>\n",
       "    <tr>\n",
       "      <th>293917</th>\n",
       "      <td>738357</td>\n",
       "      <td>37:55.7</td>\n",
       "      <td>treatment</td>\n",
       "      <td>old_page</td>\n",
       "      <td>0</td>\n",
       "    </tr>\n",
       "    <tr>\n",
       "      <th>294014</th>\n",
       "      <td>813406</td>\n",
       "      <td>25:33.2</td>\n",
       "      <td>treatment</td>\n",
       "      <td>old_page</td>\n",
       "      <td>0</td>\n",
       "    </tr>\n",
       "    <tr>\n",
       "      <th>294252</th>\n",
       "      <td>892498</td>\n",
       "      <td>11:10.5</td>\n",
       "      <td>treatment</td>\n",
       "      <td>old_page</td>\n",
       "      <td>0</td>\n",
       "    </tr>\n",
       "  </tbody>\n",
       "</table>\n",
       "<p>1965 rows × 5 columns</p>\n",
       "</div>"
      ],
      "text/plain": [
       "            id     time  con_treat      page  converted\n",
       "308     857184  34:59.8  treatment  old_page          0\n",
       "327     686623  26:40.7  treatment  old_page          0\n",
       "357     856078  29:30.4  treatment  old_page          0\n",
       "685     666385  11:54.8  treatment  old_page          0\n",
       "713     748761  47:44.4  treatment  old_page          0\n",
       "...        ...      ...        ...       ...        ...\n",
       "293773  688144  34:50.5  treatment  old_page          1\n",
       "293817  876037  15:09.0  treatment  old_page          1\n",
       "293917  738357  37:55.7  treatment  old_page          0\n",
       "294014  813406  25:33.2  treatment  old_page          0\n",
       "294252  892498  11:10.5  treatment  old_page          0\n",
       "\n",
       "[1965 rows x 5 columns]"
      ]
     },
     "execution_count": 18,
     "metadata": {},
     "output_type": "execute_result"
    }
   ],
   "source": [
    "# lets see treatment rows with old website page\n",
    "df[(df[\"con_treat\"] == \"treatment\") & (df[\"page\"] == \"old_page\")]"
   ]
  },
  {
   "cell_type": "markdown",
   "id": "60097f0b",
   "metadata": {},
   "source": [
    "##### check all mismatch records "
   ]
  },
  {
   "cell_type": "code",
   "execution_count": 19,
   "id": "6d58a3b1",
   "metadata": {},
   "outputs": [
    {
     "name": "stdout",
     "output_type": "stream",
     "text": [
      "Number of mismatched rows: 3893 rows\n",
      "Percent of mismatched rows: 1.32 percent\n"
     ]
    }
   ],
   "source": [
    "mismatch = df[(df[\"con_treat\"] == \"treatment\") & (df[\"page\"] == \"old_page\")\n",
    "               |(df[\"con_treat\"] == \"control\") & (df[\"page\"] == \"new_page\")]\n",
    "\n",
    "n_mismatch = mismatch.shape[0]\n",
    "\n",
    "percent_mismatch = round(n_mismatch / len(df) * 100, 2)\n",
    "print(f'Number of mismatched rows: {n_mismatch} rows')\n",
    "print(f'Percent of mismatched rows: {percent_mismatch} percent')"
   ]
  },
  {
   "cell_type": "markdown",
   "id": "fc36b969",
   "metadata": {},
   "source": [
    "##### Those 3893 rows are incorrect: Treatment with old page or Control with new page; Needs to be excluded from further analysis"
   ]
  },
  {
   "cell_type": "code",
   "execution_count": 21,
   "id": "c7826e4b",
   "metadata": {},
   "outputs": [
    {
     "data": {
      "text/plain": [
       "290585"
      ]
     },
     "execution_count": 21,
     "metadata": {},
     "output_type": "execute_result"
    }
   ],
   "source": [
    "df = df[(df[\"con_treat\"] == \"treatment\") & (df[\"page\"] == \"new_page\")\n",
    "        |(df[\"con_treat\"] == \"control\") & (df[\"page\"] == \"old_page\")]\n",
    "\n",
    "len(df)"
   ]
  },
  {
   "cell_type": "code",
   "execution_count": 23,
   "id": "c76bff5f",
   "metadata": {},
   "outputs": [
    {
     "name": "stdout",
     "output_type": "stream",
     "text": [
      "Number of rows: 290585\n",
      "Number of unique users: 290584\n"
     ]
    }
   ],
   "source": [
    "#check again numer of rows and unique users----remove duplicate userid\n",
    "print(f'Number of rows: {df.shape[0]}')\n",
    "print(f'Number of unique users: {df.id.nunique()}')"
   ]
  },
  {
   "cell_type": "code",
   "execution_count": 24,
   "id": "928d2eee",
   "metadata": {},
   "outputs": [],
   "source": [
    "#drop the duplicated userid\n",
    "df = df.drop_duplicates(\"id\") "
   ]
  },
  {
   "cell_type": "markdown",
   "id": "fca4a11e",
   "metadata": {},
   "source": [
    "### 5) Calculate Probability"
   ]
  },
  {
   "cell_type": "code",
   "execution_count": 33,
   "id": "c33ac541",
   "metadata": {},
   "outputs": [
    {
     "data": {
      "image/png": "[encoded data removed]",
      "text/plain": [
       "<Figure size 2160x1080 with 1 Axes>"
      ]
     },
     "metadata": {
      "needs_background": "light"
     },
     "output_type": "display_data"
    }
   ],
   "source": [
    "# Visualize control and treatment conversion rate\n",
    "plt.figure(figsize=(30,15))\n",
    "sns.barplot(x=\"con_treat\", y='id' ,hue=\"converted\", \n",
    "            data=df.groupby(['con_treat','converted']).agg({'id':'count'}).reset_index())\n",
    "plt.xlabel('Group', fontsize = 15)\n",
    "plt.ylabel('Number of Conversion', fontsize = 15)\n",
    "plt.title(\"Conversion Distribution among Control and Treatmet\", fontsize = 20)\n",
    "plt.xticks(rotation = 90)\n",
    "plt.xticks(size = 20)\n",
    "plt.yticks(size = 20)\n",
    "plt.legend(loc=2, prop={'size': 15})\n",
    "plt.show()"
   ]
  },
  {
   "cell_type": "code",
   "execution_count": 35,
   "id": "4527d24e",
   "metadata": {},
   "outputs": [
    {
     "data": {
      "text/html": [
       "<div>\n",
       "<style scoped>\n",
       "    .dataframe tbody tr th:only-of-type {\n",
       "        vertical-align: middle;\n",
       "    }\n",
       "\n",
       "    .dataframe tbody tr th {\n",
       "        vertical-align: top;\n",
       "    }\n",
       "\n",
       "    .dataframe thead th {\n",
       "        text-align: right;\n",
       "    }\n",
       "</style>\n",
       "<table border=\"1\" class=\"dataframe\">\n",
       "  <thead>\n",
       "    <tr style=\"text-align: right;\">\n",
       "      <th></th>\n",
       "      <th>converted</th>\n",
       "    </tr>\n",
       "    <tr>\n",
       "      <th>con_treat</th>\n",
       "      <th></th>\n",
       "    </tr>\n",
       "  </thead>\n",
       "  <tbody>\n",
       "    <tr>\n",
       "      <th>control</th>\n",
       "      <td>12.038630</td>\n",
       "    </tr>\n",
       "    <tr>\n",
       "      <th>treatment</th>\n",
       "      <td>11.880807</td>\n",
       "    </tr>\n",
       "  </tbody>\n",
       "</table>\n",
       "</div>"
      ],
      "text/plain": [
       "           converted\n",
       "con_treat           \n",
       "control    12.038630\n",
       "treatment  11.880807"
      ]
     },
     "execution_count": 35,
     "metadata": {},
     "output_type": "execute_result"
    }
   ],
   "source": [
    "#in the control group, what is the probability of conversion\n",
    "#in the treatment group, what is the probability of conversion\n",
    "df.id = df.id.astype(str)\n",
    "df.groupby(\"con_treat\").mean() * 100"
   ]
  },
  {
   "cell_type": "code",
   "execution_count": 41,
   "id": "356702d9",
   "metadata": {},
   "outputs": [
    {
     "data": {
      "text/html": [
       "<div>\n",
       "<style scoped>\n",
       "    .dataframe tbody tr th:only-of-type {\n",
       "        vertical-align: middle;\n",
       "    }\n",
       "\n",
       "    .dataframe tbody tr th {\n",
       "        vertical-align: top;\n",
       "    }\n",
       "\n",
       "    .dataframe thead th {\n",
       "        text-align: right;\n",
       "    }\n",
       "</style>\n",
       "<table border=\"1\" class=\"dataframe\">\n",
       "  <thead>\n",
       "    <tr style=\"text-align: right;\">\n",
       "      <th></th>\n",
       "      <th>page</th>\n",
       "    </tr>\n",
       "  </thead>\n",
       "  <tbody>\n",
       "    <tr>\n",
       "      <th>new_page</th>\n",
       "      <td>50.006194</td>\n",
       "    </tr>\n",
       "    <tr>\n",
       "      <th>old_page</th>\n",
       "      <td>49.993806</td>\n",
       "    </tr>\n",
       "  </tbody>\n",
       "</table>\n",
       "</div>"
      ],
      "text/plain": [
       "               page\n",
       "new_page  50.006194\n",
       "old_page  49.993806"
      ]
     },
     "execution_count": 41,
     "metadata": {},
     "output_type": "execute_result"
    }
   ],
   "source": [
    "# probability of a customer assigned to control or treatment group\n",
    "pd.DataFrame(df.page.value_counts(normalize = True) * 100)"
   ]
  },
  {
   "cell_type": "markdown",
   "id": "a9de1812",
   "metadata": {},
   "source": [
    "##### Those are some observations after running summary statistics and probabilities:\n",
    " 1) The probability that an individual received the new page is around 50%\n",
    " \n",
    " 2) Given that an individual was in the control group, the probability they converted is 12.04%\n",
    " \n",
    " 3) Given that an individual was in the treatment group, the probability they converted is 11.88%\n",
    " \n",
    " 4) There is almost difference of conversion rate between treatment and control group"
   ]
  },
  {
   "cell_type": "markdown",
   "id": "a626b35c",
   "metadata": {},
   "source": [
    "### 6) Hypothesis and A/B testing"
   ]
  },
  {
   "cell_type": "markdown",
   "id": "ddb533ff",
   "metadata": {},
   "source": [
    " Assuming Type I error rate of 5%\n",
    "\n",
    "𝐻0: 𝑝𝑜𝑙𝑑 - 𝑝𝑛𝑒𝑤 = 0\n",
    "\n",
    "𝐻1: 𝑝𝑜𝑙𝑑 - 𝑝𝑛𝑒𝑤 ≠ 0"
   ]
  },
  {
   "cell_type": "code",
   "execution_count": 43,
   "id": "3d5079d7",
   "metadata": {},
   "outputs": [],
   "source": [
    "# Visualize sampling distribution of (Avg.Pold - Avg.Pnew) difference  \n",
    "avg_diff = []\n",
    "size = df.shape[0]\n",
    "for i in range(10000):\n",
    "    sample = df.sample(size, replace = True)\n",
    "    control_mean = sample[sample[\"con_treat\"] == \"control\"][\"converted\"].mean()\n",
    "    treat_mean = sample[sample[\"con_treat\"] == \"treatment\"][\"converted\"].mean()\n",
    "    avg_diff.append(treat_mean - control_mean)"
   ]
  },
  {
   "cell_type": "code",
   "execution_count": 67,
   "id": "0f0ed016",
   "metadata": {},
   "outputs": [
    {
     "data": {
      "image/png": "[encoded data removed]",
      "text/plain": [
       "<Figure size 864x576 with 1 Axes>"
      ]
     },
     "metadata": {
      "needs_background": "light"
     },
     "output_type": "display_data"
    }
   ],
   "source": [
    "# Plotting the sampling distribution \n",
    "plt.figure(figsize = (12,8))\n",
    "plt.hist(avg_diff, bins = 20)\n",
    "plt.axvline(0, c='red')\n",
    "plt.show()"
   ]
  },
  {
   "cell_type": "code",
   "execution_count": 53,
   "id": "bcdf66a2",
   "metadata": {},
   "outputs": [],
   "source": [
    "# Simulate distribution under the null hypothesis\n",
    "avg_diff = np.array(avg_diff)\n",
    "null_vals = np.random.normal(0, avg_diff.std(), avg_diff.size)"
   ]
  },
  {
   "cell_type": "code",
   "execution_count": 60,
   "id": "83555eac",
   "metadata": {},
   "outputs": [
    {
     "data": {
      "image/png": "[encoded data removed]",
      "text/plain": [
       "<Figure size 864x576 with 1 Axes>"
      ]
     },
     "metadata": {
      "needs_background": "light"
     },
     "output_type": "display_data"
    }
   ],
   "source": [
    "# Plotting the null hypo distribution \n",
    "plt.figure(figsize = (12,8))\n",
    "plt.hist(null_vals, bins = 20)\n",
    "plt.axvline(0, c='red')\n",
    "plt.show()"
   ]
  },
  {
   "cell_type": "code",
   "execution_count": 68,
   "id": "c18d2ff3",
   "metadata": {},
   "outputs": [
    {
     "data": {
      "image/png": "[encoded data removed]",
      "text/plain": [
       "<Figure size 864x576 with 1 Axes>"
      ]
     },
     "metadata": {
      "needs_background": "light"
     },
     "output_type": "display_data"
    }
   ],
   "source": [
    "# Plot observed difference  with the null distibution\n",
    "control_mean = df[df[\"con_treat\"] == \"control\"][\"converted\"].mean()\n",
    "treat_mean = df[df[\"con_treat\"] == \"treatment\"][\"converted\"].mean()\n",
    "obs_diff = treat_mean - control_mean\n",
    "\n",
    "plt.figure(figsize = (12,8))\n",
    "plt.hist(null_vals, bins = 20)\n",
    "plt.axvline(obs_diff, c='red')\n",
    "plt.show()"
   ]
  },
  {
   "cell_type": "code",
   "execution_count": 56,
   "id": "b5d546d7",
   "metadata": {},
   "outputs": [
    {
     "data": {
      "text/plain": [
       "0.9101"
      ]
     },
     "execution_count": 56,
     "metadata": {},
     "output_type": "execute_result"
    }
   ],
   "source": [
    "# calculating the p value \n",
    "(null_vals > obs_diff).mean()"
   ]
  },
  {
   "cell_type": "markdown",
   "id": "7b8e7a03",
   "metadata": {},
   "source": [
    "The p_value (0.9) is greater than alpha, therefore we fail to reject the null.\n",
    "\n",
    "Conclusion: there is no significant impact for the new page."
   ]
  },
  {
   "cell_type": "markdown",
   "id": "295423f9",
   "metadata": {},
   "source": [
    "### 7) Check Z-score and P-value"
   ]
  },
  {
   "cell_type": "markdown",
   "id": "06a757b5",
   "metadata": {},
   "source": [
    "##### check z-score for alpha=0.05"
   ]
  },
  {
   "cell_type": "code",
   "execution_count": 70,
   "id": "9539b6f6",
   "metadata": {},
   "outputs": [],
   "source": [
    "from scipy.stats import norm\n",
    "# Inputs:\n",
    "#   The desired alpha for a two-tailed test\n",
    "# Returns: The z-critical value\n",
    "def get_z_star(alpha):\n",
    "    return norm.ppf((1-alpha/2))"
   ]
  },
  {
   "cell_type": "code",
   "execution_count": 71,
   "id": "478096be",
   "metadata": {},
   "outputs": [
    {
     "data": {
      "text/plain": [
       "1.959963984540054"
      ]
     },
     "execution_count": 71,
     "metadata": {},
     "output_type": "execute_result"
    }
   ],
   "source": [
    "# get z_critical value when alpha = 0.05\n",
    "get_z_star(0.05)"
   ]
  },
  {
   "cell_type": "code",
   "execution_count": 98,
   "id": "8072e00d",
   "metadata": {},
   "outputs": [
    {
     "name": "stdout",
     "output_type": "stream",
     "text": [
      "Numer of users Converted old page : 17489\n",
      "Numer of users Converted new page : 17264\n",
      "Numer of users Seeing old page : 145274\n",
      "Numer of users Seeing new page : 145310\n"
     ]
    }
   ],
   "source": [
    "convert_old = df[(df[\"converted\"] == 1) & (df[\"page\"] == \"old_page\")]['id'].nunique()\n",
    "convert_new = df[(df[\"converted\"] == 1) & (df[\"page\"] == \"new_page\")]['id'].nunique()\n",
    "n_old = df[df[\"page\"] == \"old_page\"]['id'].nunique()\n",
    "n_new = df[df[\"page\"] == \"new_page\"]['id'].nunique()\n",
    "print(f'Numer of users Converted old page : {convert_old}')\n",
    "print(f'Numer of users Converted new page : {convert_new}')\n",
    "print(f'Numer of users Seeing old page : {n_old}')\n",
    "print(f'Numer of users Seeing new page : {n_new}')"
   ]
  },
  {
   "cell_type": "markdown",
   "id": "82c9cf31",
   "metadata": {},
   "source": [
    "##### Check confidence interval and stastical significance"
   ]
  },
  {
   "cell_type": "code",
   "execution_count": 108,
   "id": "fd663674",
   "metadata": {},
   "outputs": [
    {
     "name": "stdout",
     "output_type": "stream",
     "text": [
      "Confidence Interval:[-0.00393790891517839,0.0007814309444672761]\n",
      "Observed: -0.0015782389853555567\n",
      "Statistically significant: False ,  Confidence Interval does include 0\n"
     ]
    }
   ],
   "source": [
    "p_pool=(convert_old+convert_new)/(n_old+n_new)\n",
    "SE_pool=math.sqrt(p_pool*(1-p_pool)*(1/n_old+1/n_new))\n",
    "m=SE_pool*1.96\n",
    "d_hat=convert_new/n_new-convert_old/n_old\n",
    "print(\"Confidence Interval:[{},{}]\".format(d_hat-m,d_hat+m))\n",
    "print(\"Observed:\",d_hat)\n",
    "print (\"Statistically significant:\", d_hat+m<0 or d_hat-m>0 ,\",  Confidence Interval does include 0\")"
   ]
  },
  {
   "cell_type": "markdown",
   "id": "394028d2",
   "metadata": {},
   "source": [
    "From calculated confidence Interval, we know that difference between control group and treatment group is not statistically significant. Next step, we can look at p_value to double-confirm."
   ]
  },
  {
   "cell_type": "code",
   "execution_count": 121,
   "id": "3a53b13d",
   "metadata": {
    "scrolled": true
   },
   "outputs": [
    {
     "name": "stdout",
     "output_type": "stream",
     "text": [
      "0.18988337448195103\n"
     ]
    }
   ],
   "source": [
    "#Compute test statistic and p-value\n",
    "z_score, p_value = sm.stats.proportions_ztest(\n",
    "    np.array([convert_new,convert_old]),np.array([n_new,n_old]), alternative = 'two-sided')\n",
    "print(p_value)"
   ]
  },
  {
   "cell_type": "markdown",
   "id": "a32de2b7",
   "metadata": {},
   "source": [
    "P-value is 0.19>0.05--> Fail to reject null hypothesis, which indicates Pold-Pnew = 0; New website page didn't positively convert more customers."
   ]
  },
  {
   "cell_type": "markdown",
   "id": "36258db1",
   "metadata": {},
   "source": [
    "### 8) Summary:\n",
    "we conducted a  A/B testing using 2  methods:\n",
    "\n",
    "1) Sampling distribution\n",
    "\n",
    "2) Two-tailed Z test\n",
    "Both methods resulted in the same conclusion:\n",
    "\n",
    "new landing page has no impact on change coversion rate of customers"
   ]
  },
  {
   "cell_type": "markdown",
   "id": "2c65383e",
   "metadata": {},
   "source": [
    "### 9) Look at Duration for this A/B Testing"
   ]
  },
  {
   "cell_type": "code",
   "execution_count": 122,
   "id": "57ad197f",
   "metadata": {
    "scrolled": false
   },
   "outputs": [
    {
     "name": "stdout",
     "output_type": "stream",
     "text": [
      "The starting time of this A/B testing is 00:00.0\n",
      "The ending time of this A/B testing is 59:59.9\n"
     ]
    }
   ],
   "source": [
    "print('The starting time of this A/B testing is {}'.format(min(df['time'])))\n",
    "print('The ending time of this A/B testing is {}'.format(max(df['time'])))"
   ]
  },
  {
   "cell_type": "markdown",
   "id": "dd8af5ed",
   "metadata": {},
   "source": [
    "We could see this A/B testing conducted for 60 hrs.\n",
    "To get a representative sample and for  data to be accurate, experts recommend that you run your test for a minimum of one to two week, Running 60 hrs (less than 3 days) usually got biased result because weekend traffic is different from weekdays."
   ]
  }
 ],
 "metadata": {
  "kernelspec": {
   "display_name": "Python 3",
   "language": "python",
   "name": "python3"
  },
  "language_info": {
   "codemirror_mode": {
    "name": "ipython",
    "version": 3
   },
   "file_extension": ".py",
   "mimetype": "text/x-python",
   "name": "python",
   "nbconvert_exporter": "python",
   "pygments_lexer": "ipython3",
   "version": "3.8.8"
  }
 },
 "nbformat": 4,
 "nbformat_minor": 5
}
